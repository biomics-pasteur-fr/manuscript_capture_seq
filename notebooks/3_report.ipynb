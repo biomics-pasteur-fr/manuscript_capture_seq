{
 "cells": [
  {
   "cell_type": "code",
   "execution_count": 1,
   "metadata": {
    "Collapsed": "false"
   },
   "outputs": [],
   "source": [
    "DATA_DIR = \"/pasteur/zeus/projets/p02/BiomicsData/\"\n",
    "DATA_LINK_DIR = \"../data\"\n",
    "RESULTS_DIR = \"../mapper/\"\n",
    "INFO_FILE = \"../info.json\"\n",
    "TABLE_OUT = \"summary.xlsx\"\n"
   ]
  },
  {
   "cell_type": "code",
   "execution_count": 2,
   "metadata": {
    "Collapsed": "false"
   },
   "outputs": [],
   "source": [
    "import json\n",
    "from pathlib import Path\n",
    "import pandas as pd\n",
    "import parse\n",
    "import sys\n",
    "import pysam\n",
    "import matplotlib.pyplot as plt\n",
    "import matplotlib\n",
    "import seaborn as sns\n",
    "from sequana.fasta import FastA\n",
    "from sequana.bamtools import SAMBAMbase\n",
    "import shutil\n",
    "from collections import Counter\n",
    "\n",
    "%matplotlib inline\n",
    "matplotlib.style.use('seaborn-colorblind')\n",
    "matplotlib.pyplot.rcParams['figure.figsize'] = 14, 6\n",
    "\n",
    "pd.set_option('display.max_colwidth', None)\n",
    "pd.options.display.float_format = '{:.1f}'.format\n",
    "\n",
    "writer = pd.ExcelWriter(TABLE_OUT)"
   ]
  },
  {
   "cell_type": "markdown",
   "metadata": {
    "Collapsed": "false"
   },
   "source": [
    "# Statistics and vizualisations"
   ]
  },
  {
   "cell_type": "markdown",
   "metadata": {
    "Collapsed": "false"
   },
   "source": [
    "## Design\n",
    "\n",
    "Information on the capture kits, sequencing technologies, runs and sample groups."
   ]
  },
  {
   "cell_type": "code",
   "execution_count": 3,
   "metadata": {
    "Collapsed": "false"
   },
   "outputs": [
    {
     "data": {
      "text/html": [
       "<div>\n",
       "<style scoped>\n",
       "    .dataframe tbody tr th:only-of-type {\n",
       "        vertical-align: middle;\n",
       "    }\n",
       "\n",
       "    .dataframe tbody tr th {\n",
       "        vertical-align: top;\n",
       "    }\n",
       "\n",
       "    .dataframe thead th {\n",
       "        text-align: right;\n",
       "    }\n",
       "</style>\n",
       "<table border=\"1\" class=\"dataframe\">\n",
       "  <thead>\n",
       "    <tr style=\"text-align: right;\">\n",
       "      <th></th>\n",
       "      <th>sample_id</th>\n",
       "      <th>ct</th>\n",
       "      <th>group</th>\n",
       "    </tr>\n",
       "  </thead>\n",
       "  <tbody>\n",
       "    <tr>\n",
       "      <th>0</th>\n",
       "      <td>4885</td>\n",
       "      <td>26.1</td>\n",
       "      <td>A</td>\n",
       "    </tr>\n",
       "    <tr>\n",
       "      <th>1</th>\n",
       "      <td>4716</td>\n",
       "      <td>25.8</td>\n",
       "      <td>A</td>\n",
       "    </tr>\n",
       "    <tr>\n",
       "      <th>2</th>\n",
       "      <td>4660</td>\n",
       "      <td>26.6</td>\n",
       "      <td>A</td>\n",
       "    </tr>\n",
       "    <tr>\n",
       "      <th>3</th>\n",
       "      <td>4520</td>\n",
       "      <td>25.5</td>\n",
       "      <td>A</td>\n",
       "    </tr>\n",
       "    <tr>\n",
       "      <th>4</th>\n",
       "      <td>4707</td>\n",
       "      <td>28.6</td>\n",
       "      <td>B</td>\n",
       "    </tr>\n",
       "    <tr>\n",
       "      <th>5</th>\n",
       "      <td>4697</td>\n",
       "      <td>28.7</td>\n",
       "      <td>B</td>\n",
       "    </tr>\n",
       "    <tr>\n",
       "      <th>6</th>\n",
       "      <td>4676</td>\n",
       "      <td>28.9</td>\n",
       "      <td>B</td>\n",
       "    </tr>\n",
       "    <tr>\n",
       "      <th>7</th>\n",
       "      <td>4653</td>\n",
       "      <td>29.3</td>\n",
       "      <td>B</td>\n",
       "    </tr>\n",
       "    <tr>\n",
       "      <th>8</th>\n",
       "      <td>4861</td>\n",
       "      <td>33.0</td>\n",
       "      <td>C</td>\n",
       "    </tr>\n",
       "    <tr>\n",
       "      <th>9</th>\n",
       "      <td>4787</td>\n",
       "      <td>32.6</td>\n",
       "      <td>C</td>\n",
       "    </tr>\n",
       "    <tr>\n",
       "      <th>10</th>\n",
       "      <td>4688</td>\n",
       "      <td>31.1</td>\n",
       "      <td>C</td>\n",
       "    </tr>\n",
       "    <tr>\n",
       "      <th>11</th>\n",
       "      <td>4673</td>\n",
       "      <td>32.6</td>\n",
       "      <td>C</td>\n",
       "    </tr>\n",
       "    <tr>\n",
       "      <th>12</th>\n",
       "      <td>4777</td>\n",
       "      <td>35.4</td>\n",
       "      <td>D</td>\n",
       "    </tr>\n",
       "    <tr>\n",
       "      <th>13</th>\n",
       "      <td>4668</td>\n",
       "      <td>35.9</td>\n",
       "      <td>D</td>\n",
       "    </tr>\n",
       "    <tr>\n",
       "      <th>14</th>\n",
       "      <td>4510</td>\n",
       "      <td>34.6</td>\n",
       "      <td>D</td>\n",
       "    </tr>\n",
       "    <tr>\n",
       "      <th>15</th>\n",
       "      <td>4489</td>\n",
       "      <td>35.1</td>\n",
       "      <td>D</td>\n",
       "    </tr>\n",
       "    <tr>\n",
       "      <th>16</th>\n",
       "      <td>4798</td>\n",
       "      <td>36.5</td>\n",
       "      <td>E</td>\n",
       "    </tr>\n",
       "    <tr>\n",
       "      <th>17</th>\n",
       "      <td>4797</td>\n",
       "      <td>39.2</td>\n",
       "      <td>E</td>\n",
       "    </tr>\n",
       "    <tr>\n",
       "      <th>18</th>\n",
       "      <td>4656</td>\n",
       "      <td>36.5</td>\n",
       "      <td>E</td>\n",
       "    </tr>\n",
       "    <tr>\n",
       "      <th>19</th>\n",
       "      <td>4544</td>\n",
       "      <td>36.7</td>\n",
       "      <td>E</td>\n",
       "    </tr>\n",
       "  </tbody>\n",
       "</table>\n",
       "</div>"
      ],
      "text/plain": [
       "   sample_id   ct group\n",
       "0       4885 26.1     A\n",
       "1       4716 25.8     A\n",
       "2       4660 26.6     A\n",
       "3       4520 25.5     A\n",
       "4       4707 28.6     B\n",
       "5       4697 28.7     B\n",
       "6       4676 28.9     B\n",
       "7       4653 29.3     B\n",
       "8       4861 33.0     C\n",
       "9       4787 32.6     C\n",
       "10      4688 31.1     C\n",
       "11      4673 32.6     C\n",
       "12      4777 35.4     D\n",
       "13      4668 35.9     D\n",
       "14      4510 34.6     D\n",
       "15      4489 35.1     D\n",
       "16      4798 36.5     E\n",
       "17      4797 39.2     E\n",
       "18      4656 36.5     E\n",
       "19      4544 36.7     E"
      ]
     },
     "execution_count": 3,
     "metadata": {},
     "output_type": "execute_result"
    }
   ],
   "source": [
    "with open(INFO_FILE, \"r\") as f:\n",
    "    info = json.load(f)\n",
    "\n",
    "groups_df = pd.DataFrame(info[\"groups\"]).melt().rename(columns={'variable': 'group', 'value': 'sample_id'})\n",
    "groups_df = groups_df.astype({'sample_id':str})\n",
    "cts_df = pd.DataFrame(info[\"cts\"], index=[\"ct\"]).transpose().reset_index().rename(columns={'index': 'sample_id'})\n",
    "# Joining groups and cts\n",
    "groups_df = cts_df.merge(groups_df, on=\"sample_id\")\n",
    "\n",
    "groups_df.to_excel(writer, sheet_name=\"groups\", index=False, na_rep=\"NA\")\n",
    "writer.save()\n",
    "groups_df"
   ]
  },
  {
   "cell_type": "code",
   "execution_count": 4,
   "metadata": {
    "tags": []
   },
   "outputs": [],
   "source": [
    "design_df = pd.DataFrame(info[\"runs\"]).transpose().reset_index().rename(columns={'index':'experiment'})"
   ]
  },
  {
   "cell_type": "markdown",
   "metadata": {},
   "source": [
    "Link all datasets to DATA_DIR folder, organizing by experiments:"
   ]
  },
  {
   "cell_type": "code",
   "execution_count": 7,
   "metadata": {
    "collapsed": true,
    "jupyter": {
     "outputs_hidden": true
    },
    "tags": []
   },
   "outputs": [
    {
     "name": "stdout",
     "output_type": "stream",
     "text": [
      "38 links created in ../data/arbo_double_is\n",
      "38 links created in ../data/arbo_double_ms\n",
      "20 links created in ../data/arbo_double_10plex_ms\n",
      "38 links created in ../data/arbo_single_is\n",
      "38 links created in ../data/arbo_single_ms\n",
      "38 links created in ../data/illumina_resv_is\n",
      "38 links created in ../data/illumina_resv_ms\n",
      "38 links created in ../data/illumina_resv_ns\n",
      "42 links created in ../data/meta_is\n",
      "42 links created in ../data/meta_ns\n",
      "40 links created in ../data/twist_cov_is\n",
      "40 links created in ../data/twist_cov_ms\n",
      "40 links created in ../data/twist_cov_ns\n",
      "38 links created in ../data/twist_panviral_is\n",
      "38 links created in ../data/twist_panviral_ns\n",
      "20 links created in ../data/twist_cov_10plex_ms\n",
      "40 links created in ../data/twist_cov_LB_ms\n"
     ]
    }
   ],
   "source": [
    "for index, row in design_df.iterrows():\n",
    "    link_dir = Path(DATA_LINK_DIR) / row.experiment\n",
    "    data_dir = Path(DATA_DIR) / row.path / \"fastq\" / \"B3910\"\n",
    "    link_dir.mkdir()\n",
    "    print(f\"{len([x for x in data_dir.glob('*.fastq.gz')])} links created in {link_dir}\")\n",
    "    for fq in data_dir.glob(\"*.fastq.gz\"):\n",
    "        link_path = link_dir / fq.name\n",
    "        link_path.symlink_to(fq)"
   ]
  },
  {
   "cell_type": "code",
   "execution_count": 5,
   "metadata": {
    "Collapsed": "false"
   },
   "outputs": [],
   "source": [
    "# Verifying data present in data directory match the design\n",
    "data_dir = Path(DATA_LINK_DIR)\n",
    "\n",
    "data_dict = {}\n",
    "for dataset in data_dir.glob(\"*\"):\n",
    "    \n",
    "    if dataset.is_dir():\n",
    "        libs = [lib for lib in dataset.iterdir()]\n",
    "    \n",
    "        # Extract the link path and the name of the run from folder name\n",
    "        run_ids = set([lib.resolve().parent.parent.parent.stem for lib in libs if lib])\n",
    "    \n",
    "        data_dict[dataset.stem] = {\"run_ids\": \",\".join(run_ids), \"n_libs\": len(libs) / 2}\n",
    "\n",
    "data_df = pd.DataFrame(data_dict).transpose().reset_index().rename(columns={'index':'experiment'})\n",
    "\n",
    "design_df = design_df.merge(data_df, on='experiment', how='outer')\n",
    "design_df.to_excel(writer, sheet_name=\"design\", index=False, na_rep=\"NA\")\n",
    "writer.save()"
   ]
  },
  {
   "cell_type": "code",
   "execution_count": 6,
   "metadata": {
    "Collapsed": "false"
   },
   "outputs": [
    {
     "data": {
      "text/html": [
       "<div>\n",
       "<style scoped>\n",
       "    .dataframe tbody tr th:only-of-type {\n",
       "        vertical-align: middle;\n",
       "    }\n",
       "\n",
       "    .dataframe tbody tr th {\n",
       "        vertical-align: top;\n",
       "    }\n",
       "\n",
       "    .dataframe thead th {\n",
       "        text-align: right;\n",
       "    }\n",
       "</style>\n",
       "<table border=\"1\" class=\"dataframe\">\n",
       "  <thead>\n",
       "    <tr style=\"text-align: right;\">\n",
       "      <th></th>\n",
       "      <th>experiment</th>\n",
       "      <th>path</th>\n",
       "      <th>description</th>\n",
       "      <th>run_ids</th>\n",
       "      <th>n_libs</th>\n",
       "    </tr>\n",
       "  </thead>\n",
       "  <tbody>\n",
       "    <tr>\n",
       "      <th>0</th>\n",
       "      <td>arbo_double_is</td>\n",
       "      <td>2020/ISeq100/20200423_FS10001183_4_BPL20309-2627</td>\n",
       "      <td>Arbor Sars-cov simple capture</td>\n",
       "      <td>20200423_FS10001183_4_BPL20309-2627</td>\n",
       "      <td>19.0</td>\n",
       "    </tr>\n",
       "    <tr>\n",
       "      <th>1</th>\n",
       "      <td>arbo_double_ms</td>\n",
       "      <td>2020/MiSeq/200427_M01626_0470_000000000-CVJBF</td>\n",
       "      <td>Arbor Sars-cov double capture : Miseq</td>\n",
       "      <td>200427_M01626_0470_000000000-CVJBF</td>\n",
       "      <td>19.0</td>\n",
       "    </tr>\n",
       "    <tr>\n",
       "      <th>2</th>\n",
       "      <td>arbo_double_10plex_ms</td>\n",
       "      <td>2020/MiSeq/200511_M05218_0203_000000000-J533H</td>\n",
       "      <td>Arbor Double Capture Sars-cov 10plex</td>\n",
       "      <td>200511_M05218_0203_000000000-J533H</td>\n",
       "      <td>10.0</td>\n",
       "    </tr>\n",
       "    <tr>\n",
       "      <th>3</th>\n",
       "      <td>arbo_single_is</td>\n",
       "      <td>2020/ISeq100/20200428_FS10001183_5_BPL20316-3113</td>\n",
       "      <td>Arbor Sars-cov SIMPLE CAPTURE : Iseq100</td>\n",
       "      <td>20200428_FS10001183_5_BPL20316-3113</td>\n",
       "      <td>19.0</td>\n",
       "    </tr>\n",
       "    <tr>\n",
       "      <th>4</th>\n",
       "      <td>arbo_single_ms</td>\n",
       "      <td>2020/MiSeq/200504_M05218_0201_000000000-J534C</td>\n",
       "      <td>Arbor Sars-cov SIMPLE CAPTURE : Miseq</td>\n",
       "      <td>200504_M05218_0201_000000000-J534C</td>\n",
       "      <td>19.0</td>\n",
       "    </tr>\n",
       "    <tr>\n",
       "      <th>5</th>\n",
       "      <td>illumina_resv_is</td>\n",
       "      <td>2020/ISeq100/20200421_FS10001183_3_BPL20309-1531</td>\n",
       "      <td>Illumina capture ResV : ISeq100</td>\n",
       "      <td>20200421_FS10001183_3_BPL20309-1531</td>\n",
       "      <td>19.0</td>\n",
       "    </tr>\n",
       "    <tr>\n",
       "      <th>6</th>\n",
       "      <td>illumina_resv_ms</td>\n",
       "      <td>2020/MiSeq/200504_M01626_0471_000000000-J4VCN</td>\n",
       "      <td>Illumina capture ResV : Miseq</td>\n",
       "      <td>200504_M01626_0471_000000000-J4VCN</td>\n",
       "      <td>19.0</td>\n",
       "    </tr>\n",
       "    <tr>\n",
       "      <th>7</th>\n",
       "      <td>illumina_resv_ns</td>\n",
       "      <td>2020/NextSeq500/200504_NB501291_0237_AHM3NCBGXF</td>\n",
       "      <td>Illumina capture ResV : Nextseq</td>\n",
       "      <td>200504_NB501291_0237_AHM3NCBGXF</td>\n",
       "      <td>19.0</td>\n",
       "    </tr>\n",
       "    <tr>\n",
       "      <th>8</th>\n",
       "      <td>meta_is</td>\n",
       "      <td>2020/ISeq100/20200416_FS10001183_1_BPL20316-3215</td>\n",
       "      <td>Pré-capture ( métagénomique shotgun) : Iseq100</td>\n",
       "      <td>20200416_FS10001183_1_BPL20316-3215</td>\n",
       "      <td>21.0</td>\n",
       "    </tr>\n",
       "    <tr>\n",
       "      <th>9</th>\n",
       "      <td>meta_ns</td>\n",
       "      <td>2020/NextSeq500/200417_NS500199_0381_AH3YVWBGXB</td>\n",
       "      <td>Pré-capture ( métagénomique shotgun) : NextSeq500</td>\n",
       "      <td>200417_NS500199_0381_AH3YVWBGXB</td>\n",
       "      <td>21.0</td>\n",
       "    </tr>\n",
       "    <tr>\n",
       "      <th>10</th>\n",
       "      <td>twist_cov_is</td>\n",
       "      <td>2020/ISeq100/20200420_FS10001183_2_BPA73110-1809</td>\n",
       "      <td>Twist capture sras-cov2: ISeq100</td>\n",
       "      <td>20200420_FS10001183_2_BPA73110-1809</td>\n",
       "      <td>20.0</td>\n",
       "    </tr>\n",
       "    <tr>\n",
       "      <th>11</th>\n",
       "      <td>twist_cov_ms</td>\n",
       "      <td>2020/MiSeq/200427_M05218_0198_000000000-J39KG</td>\n",
       "      <td>Twist capture sras-cov2: MiSeq</td>\n",
       "      <td>200427_M05218_0198_000000000-J39KG</td>\n",
       "      <td>20.0</td>\n",
       "    </tr>\n",
       "    <tr>\n",
       "      <th>12</th>\n",
       "      <td>twist_cov_ns</td>\n",
       "      <td>2020/NextSeq500/200422_NS500199_0382_AHY3HGBGXC</td>\n",
       "      <td>Twist capture sras-cov2: Nextseq</td>\n",
       "      <td>200422_NS500199_0382_AHY3HGBGXC</td>\n",
       "      <td>20.0</td>\n",
       "    </tr>\n",
       "    <tr>\n",
       "      <th>13</th>\n",
       "      <td>twist_panviral_is</td>\n",
       "      <td>2020/ISeq100/20200420_FFSMP030_20_BPL20308-2821</td>\n",
       "      <td>Twist capture pan viral: ISeq100</td>\n",
       "      <td>20200420_FFSMP030_20_BPL20308-2821</td>\n",
       "      <td>19.0</td>\n",
       "    </tr>\n",
       "    <tr>\n",
       "      <th>14</th>\n",
       "      <td>twist_panviral_ns</td>\n",
       "      <td>2020/NextSeq500/200428_NB501291_0235_AHCYFCBGXF</td>\n",
       "      <td>Twist capture pan viral: Nextseq</td>\n",
       "      <td>200428_NB501291_0235_AHCYFCBGXF</td>\n",
       "      <td>19.0</td>\n",
       "    </tr>\n",
       "    <tr>\n",
       "      <th>15</th>\n",
       "      <td>twist_cov_10plex_ms</td>\n",
       "      <td>2020/MiSeq/200506_M05218_0202_000000000-J57BC</td>\n",
       "      <td>Twist Capture Sars-cov 10plex: MiSeq</td>\n",
       "      <td>200506_M05218_0202_000000000-J57BC</td>\n",
       "      <td>10.0</td>\n",
       "    </tr>\n",
       "    <tr>\n",
       "      <th>16</th>\n",
       "      <td>twist_cov_LB_ms</td>\n",
       "      <td>2020/MiSeq/200514_M05218_0205_000000000-J56F6</td>\n",
       "      <td>TwistLB Capture Sars-cov: MiSeq</td>\n",
       "      <td>200514_M05218_0205_000000000-J56F6</td>\n",
       "      <td>20.0</td>\n",
       "    </tr>\n",
       "  </tbody>\n",
       "</table>\n",
       "</div>"
      ],
      "text/plain": [
       "               experiment                                              path  \\\n",
       "0          arbo_double_is  2020/ISeq100/20200423_FS10001183_4_BPL20309-2627   \n",
       "1          arbo_double_ms     2020/MiSeq/200427_M01626_0470_000000000-CVJBF   \n",
       "2   arbo_double_10plex_ms     2020/MiSeq/200511_M05218_0203_000000000-J533H   \n",
       "3          arbo_single_is  2020/ISeq100/20200428_FS10001183_5_BPL20316-3113   \n",
       "4          arbo_single_ms     2020/MiSeq/200504_M05218_0201_000000000-J534C   \n",
       "5        illumina_resv_is  2020/ISeq100/20200421_FS10001183_3_BPL20309-1531   \n",
       "6        illumina_resv_ms     2020/MiSeq/200504_M01626_0471_000000000-J4VCN   \n",
       "7        illumina_resv_ns   2020/NextSeq500/200504_NB501291_0237_AHM3NCBGXF   \n",
       "8                 meta_is  2020/ISeq100/20200416_FS10001183_1_BPL20316-3215   \n",
       "9                 meta_ns   2020/NextSeq500/200417_NS500199_0381_AH3YVWBGXB   \n",
       "10           twist_cov_is  2020/ISeq100/20200420_FS10001183_2_BPA73110-1809   \n",
       "11           twist_cov_ms     2020/MiSeq/200427_M05218_0198_000000000-J39KG   \n",
       "12           twist_cov_ns   2020/NextSeq500/200422_NS500199_0382_AHY3HGBGXC   \n",
       "13      twist_panviral_is   2020/ISeq100/20200420_FFSMP030_20_BPL20308-2821   \n",
       "14      twist_panviral_ns   2020/NextSeq500/200428_NB501291_0235_AHCYFCBGXF   \n",
       "15    twist_cov_10plex_ms     2020/MiSeq/200506_M05218_0202_000000000-J57BC   \n",
       "16        twist_cov_LB_ms     2020/MiSeq/200514_M05218_0205_000000000-J56F6   \n",
       "\n",
       "                                          description  \\\n",
       "0                       Arbor Sars-cov simple capture   \n",
       "1               Arbor Sars-cov double capture : Miseq   \n",
       "2                Arbor Double Capture Sars-cov 10plex   \n",
       "3             Arbor Sars-cov SIMPLE CAPTURE : Iseq100   \n",
       "4               Arbor Sars-cov SIMPLE CAPTURE : Miseq   \n",
       "5                     Illumina capture ResV : ISeq100   \n",
       "6                       Illumina capture ResV : Miseq   \n",
       "7                    Illumina capture ResV : Nextseq    \n",
       "8      Pré-capture ( métagénomique shotgun) : Iseq100   \n",
       "9   Pré-capture ( métagénomique shotgun) : NextSeq500   \n",
       "10                   Twist capture sras-cov2: ISeq100   \n",
       "11                     Twist capture sras-cov2: MiSeq   \n",
       "12                   Twist capture sras-cov2: Nextseq   \n",
       "13                   Twist capture pan viral: ISeq100   \n",
       "14                   Twist capture pan viral: Nextseq   \n",
       "15               Twist Capture Sars-cov 10plex: MiSeq   \n",
       "16                    TwistLB Capture Sars-cov: MiSeq   \n",
       "\n",
       "                                run_ids n_libs  \n",
       "0   20200423_FS10001183_4_BPL20309-2627   19.0  \n",
       "1    200427_M01626_0470_000000000-CVJBF   19.0  \n",
       "2    200511_M05218_0203_000000000-J533H   10.0  \n",
       "3   20200428_FS10001183_5_BPL20316-3113   19.0  \n",
       "4    200504_M05218_0201_000000000-J534C   19.0  \n",
       "5   20200421_FS10001183_3_BPL20309-1531   19.0  \n",
       "6    200504_M01626_0471_000000000-J4VCN   19.0  \n",
       "7       200504_NB501291_0237_AHM3NCBGXF   19.0  \n",
       "8   20200416_FS10001183_1_BPL20316-3215   21.0  \n",
       "9       200417_NS500199_0381_AH3YVWBGXB   21.0  \n",
       "10  20200420_FS10001183_2_BPA73110-1809   20.0  \n",
       "11   200427_M05218_0198_000000000-J39KG   20.0  \n",
       "12      200422_NS500199_0382_AHY3HGBGXC   20.0  \n",
       "13   20200420_FFSMP030_20_BPL20308-2821   19.0  \n",
       "14      200428_NB501291_0235_AHCYFCBGXF   19.0  \n",
       "15   200506_M05218_0202_000000000-J57BC   10.0  \n",
       "16   200514_M05218_0205_000000000-J56F6   20.0  "
      ]
     },
     "execution_count": 6,
     "metadata": {},
     "output_type": "execute_result"
    }
   ],
   "source": [
    "design_df"
   ]
  },
  {
   "cell_type": "code",
   "execution_count": 7,
   "metadata": {},
   "outputs": [
    {
     "data": {
      "text/html": [
       "<div>\n",
       "<style scoped>\n",
       "    .dataframe tbody tr th:only-of-type {\n",
       "        vertical-align: middle;\n",
       "    }\n",
       "\n",
       "    .dataframe tbody tr th {\n",
       "        vertical-align: top;\n",
       "    }\n",
       "\n",
       "    .dataframe thead th {\n",
       "        text-align: right;\n",
       "    }\n",
       "</style>\n",
       "<table border=\"1\" class=\"dataframe\">\n",
       "  <thead>\n",
       "    <tr style=\"text-align: right;\">\n",
       "      <th></th>\n",
       "      <th>experiment</th>\n",
       "      <th>run_ids</th>\n",
       "      <th>n_libs</th>\n",
       "    </tr>\n",
       "  </thead>\n",
       "  <tbody>\n",
       "    <tr>\n",
       "      <th>0</th>\n",
       "      <td>arbo_single_is</td>\n",
       "      <td>20200428_FS10001183_5_BPL20316-3113</td>\n",
       "      <td>19.0</td>\n",
       "    </tr>\n",
       "    <tr>\n",
       "      <th>1</th>\n",
       "      <td>twist_cov_ns</td>\n",
       "      <td>200422_NS500199_0382_AHY3HGBGXC</td>\n",
       "      <td>20.0</td>\n",
       "    </tr>\n",
       "    <tr>\n",
       "      <th>2</th>\n",
       "      <td>arbo_single_ms</td>\n",
       "      <td>200504_M05218_0201_000000000-J534C</td>\n",
       "      <td>19.0</td>\n",
       "    </tr>\n",
       "    <tr>\n",
       "      <th>3</th>\n",
       "      <td>meta_is</td>\n",
       "      <td>20200416_FS10001183_1_BPL20316-3215</td>\n",
       "      <td>21.0</td>\n",
       "    </tr>\n",
       "    <tr>\n",
       "      <th>4</th>\n",
       "      <td>arbo_double_10plex_ms</td>\n",
       "      <td>200511_M05218_0203_000000000-J533H</td>\n",
       "      <td>10.0</td>\n",
       "    </tr>\n",
       "    <tr>\n",
       "      <th>5</th>\n",
       "      <td>twist_cov_LB_ms</td>\n",
       "      <td>200514_M05218_0205_000000000-J56F6</td>\n",
       "      <td>20.0</td>\n",
       "    </tr>\n",
       "    <tr>\n",
       "      <th>6</th>\n",
       "      <td>twist_cov_ms</td>\n",
       "      <td>200427_M05218_0198_000000000-J39KG</td>\n",
       "      <td>20.0</td>\n",
       "    </tr>\n",
       "    <tr>\n",
       "      <th>7</th>\n",
       "      <td>illumina_resv_is</td>\n",
       "      <td>20200421_FS10001183_3_BPL20309-1531</td>\n",
       "      <td>19.0</td>\n",
       "    </tr>\n",
       "    <tr>\n",
       "      <th>8</th>\n",
       "      <td>twist_panviral_ns</td>\n",
       "      <td>200428_NB501291_0235_AHCYFCBGXF</td>\n",
       "      <td>19.0</td>\n",
       "    </tr>\n",
       "    <tr>\n",
       "      <th>9</th>\n",
       "      <td>illumina_resv_ns</td>\n",
       "      <td>200504_NB501291_0237_AHM3NCBGXF</td>\n",
       "      <td>19.0</td>\n",
       "    </tr>\n",
       "    <tr>\n",
       "      <th>10</th>\n",
       "      <td>arbo_double_ms</td>\n",
       "      <td>200427_M01626_0470_000000000-CVJBF</td>\n",
       "      <td>19.0</td>\n",
       "    </tr>\n",
       "    <tr>\n",
       "      <th>11</th>\n",
       "      <td>illumina_resv_ms</td>\n",
       "      <td>200504_M01626_0471_000000000-J4VCN</td>\n",
       "      <td>19.0</td>\n",
       "    </tr>\n",
       "    <tr>\n",
       "      <th>12</th>\n",
       "      <td>twist_cov_is</td>\n",
       "      <td>20200420_FS10001183_2_BPA73110-1809</td>\n",
       "      <td>20.0</td>\n",
       "    </tr>\n",
       "    <tr>\n",
       "      <th>13</th>\n",
       "      <td>twist_cov_10plex_ms</td>\n",
       "      <td>200506_M05218_0202_000000000-J57BC</td>\n",
       "      <td>10.0</td>\n",
       "    </tr>\n",
       "    <tr>\n",
       "      <th>14</th>\n",
       "      <td>arbo_double_is</td>\n",
       "      <td>20200423_FS10001183_4_BPL20309-2627</td>\n",
       "      <td>19.0</td>\n",
       "    </tr>\n",
       "    <tr>\n",
       "      <th>15</th>\n",
       "      <td>meta_ns</td>\n",
       "      <td>200417_NS500199_0381_AH3YVWBGXB</td>\n",
       "      <td>21.0</td>\n",
       "    </tr>\n",
       "    <tr>\n",
       "      <th>16</th>\n",
       "      <td>twist_panviral_is</td>\n",
       "      <td>20200420_FFSMP030_20_BPL20308-2821</td>\n",
       "      <td>19.0</td>\n",
       "    </tr>\n",
       "  </tbody>\n",
       "</table>\n",
       "</div>"
      ],
      "text/plain": [
       "               experiment                              run_ids n_libs\n",
       "0          arbo_single_is  20200428_FS10001183_5_BPL20316-3113   19.0\n",
       "1            twist_cov_ns      200422_NS500199_0382_AHY3HGBGXC   20.0\n",
       "2          arbo_single_ms   200504_M05218_0201_000000000-J534C   19.0\n",
       "3                 meta_is  20200416_FS10001183_1_BPL20316-3215   21.0\n",
       "4   arbo_double_10plex_ms   200511_M05218_0203_000000000-J533H   10.0\n",
       "5         twist_cov_LB_ms   200514_M05218_0205_000000000-J56F6   20.0\n",
       "6            twist_cov_ms   200427_M05218_0198_000000000-J39KG   20.0\n",
       "7        illumina_resv_is  20200421_FS10001183_3_BPL20309-1531   19.0\n",
       "8       twist_panviral_ns      200428_NB501291_0235_AHCYFCBGXF   19.0\n",
       "9        illumina_resv_ns      200504_NB501291_0237_AHM3NCBGXF   19.0\n",
       "10         arbo_double_ms   200427_M01626_0470_000000000-CVJBF   19.0\n",
       "11       illumina_resv_ms   200504_M01626_0471_000000000-J4VCN   19.0\n",
       "12           twist_cov_is  20200420_FS10001183_2_BPA73110-1809   20.0\n",
       "13    twist_cov_10plex_ms   200506_M05218_0202_000000000-J57BC   10.0\n",
       "14         arbo_double_is  20200423_FS10001183_4_BPL20309-2627   19.0\n",
       "15                meta_ns      200417_NS500199_0381_AH3YVWBGXB   21.0\n",
       "16      twist_panviral_is   20200420_FFSMP030_20_BPL20308-2821   19.0"
      ]
     },
     "execution_count": 7,
     "metadata": {},
     "output_type": "execute_result"
    }
   ],
   "source": [
    "data_df"
   ]
  },
  {
   "cell_type": "markdown",
   "metadata": {
    "Collapsed": "false"
   },
   "source": [
    "## Mapping statistics"
   ]
  },
  {
   "cell_type": "code",
   "execution_count": 8,
   "metadata": {
    "Collapsed": "false"
   },
   "outputs": [],
   "source": [
    "bamtools_parse = \"\"\"\n",
    "**********************************************\n",
    "Stats for BAM file(s): \n",
    "**********************************************\n",
    "\n",
    "Total reads:       {total_reads:d}\n",
    "Mapped reads:      {mapped_reads:d}\t({mapped_reads_perc:g}%)\n",
    "Forward strand:    {forward_strand:d}\t({forward_strand_perc:g}%)\n",
    "Reverse strand:    {reverse_strand:d}\t({reverse_strand_perc:g}%)\n",
    "Failed QC:         {failed_qc:d}\t({failed_qc_perc:g}%)\n",
    "Duplicates:        {duplicates:d}\t({duplicates_perc:g}%)\n",
    "Paired-end reads:  {paired_reads:d}\t({paired_reads_perc:g}%)\n",
    "'Proper-pairs':    {proper_pairs:d}\t({proper_pairs_perc:g}%)\n",
    "Both pairs mapped: {both_mapped:d}\t({both_mapped_perc:g}%)\n",
    "Read 1:            {read1:d}\n",
    "Read 2:            {read2:d}\n",
    "Singletons:        {singletons:d}\t({singletons_perc:g}%)\n",
    "\n",
    "\"\"\""
   ]
  },
  {
   "cell_type": "code",
   "execution_count": 9,
   "metadata": {
    "Collapsed": "false"
   },
   "outputs": [],
   "source": [
    "def get_alignment_stats(analysis_folder):\n",
    "    \n",
    "    map_log_pattern = \"**/bamtools_stats/*.txt\"\n",
    "    \n",
    "    bam_stats_dict = {}\n",
    "    \n",
    "    for ali_log in Path(analysis_folder).glob(map_log_pattern):\n",
    "        with open(ali_log, \"r\") as f:\n",
    "            parsed_res = parse.parse(bamtools_parse, f.read())\n",
    "            bam_stats_dict[ali_log.parent.parent.stem] = parsed_res.named\n",
    "    \n",
    "    df = pd.DataFrame(bam_stats_dict).transpose()\n",
    "    df.loc[:,\"mapped_reads_per_million\"] = df.loc[:,\"mapped_reads_perc\"] * 10_000\n",
    "    return df\n",
    "\n",
    "def get_coverage_stats(analysis_folder, coverage=True):\n",
    "    \n",
    "    sequana_coverage_json_pattern = \"**/sequana_coverage/*/*.json\"\n",
    "\n",
    "    coverage_dict = {}\n",
    "    for j in Path(analysis_folder).glob(sequana_coverage_json_pattern):\n",
    "        with open(j, \"r\") as f:\n",
    "            json_text = json.load(f)\n",
    "            data = json_text['data']\n",
    "            data.pop(\"hist_coverage\")\n",
    "            lib_name = j.parent.parent.parent.stem\n",
    "            coverage_dict[lib_name] = data\n",
    "        \n",
    "    df = pd.DataFrame(coverage_dict)\n",
    "    if coverage:\n",
    "        df = df.loc[[\"BOC\", \"DOC\", \"CV\" ]].astype(\"float\")\n",
    "    return df.transpose()\n",
    "\n",
    "def plot_by_groups(df,x, y, hue, title, log=False, hue_order=None, palette=None, swarmplot=True):\n",
    "    with sns.color_palette(palette): \n",
    "        test_plot = sns.barplot(x=x, y=y, hue=hue, log=log,\n",
    "                                data=df.reset_index().sort_values(y, ascending=False),\n",
    "                                hue_order=hue_order, order=sorted(df[x].unique()),\n",
    "                                errwidth=1)\n",
    "        if swarmplot:\n",
    "            test_plot = sns.swarmplot(x=x, y=y, data=df.reset_index().sort_values(y, ascending=False),\n",
    "                                      hue=hue, hue_order=hue_order, order=sorted(df[x].unique()), dodge=True, color=\"black\")\n",
    "    _ = test_plot.set_title(title)\n",
    "    \n",
    "    # Remove the unecessary legend for the swarmplot\n",
    "    handles, labels = test_plot.get_legend_handles_labels()\n",
    "    idx = len(df.loc[:,hue].unique())\n",
    "    test_plot.legend(handles[idx:], labels[idx:], bbox_to_anchor=(1.05, 1), loc=2, borderaxespad=0.)\n",
    "    \n",
    "\n",
    "def summarize_mapping(results_dir, coverage=True):\n",
    "\n",
    "    if coverage:\n",
    "        selected_columns = [\"total_reads\", \"mapped_reads\", \"mapped_reads_perc\", \"mapped_reads_per_million\", \"proper_pairs\", \"BOC\", \"DOC\", \"CV\"]\n",
    "    else:\n",
    "        selected_columns = [\"total_reads\", \"mapped_reads\", \"mapped_reads_perc\", \"mapped_reads_per_million\", \"proper_pairs\"]\n",
    "        \n",
    "    analysis_folders = sorted([x for x in Path(results_dir).glob(\"*\") if x.is_dir()])\n",
    "    all_dfs = []\n",
    "    \n",
    "    for count, analysis_folder in enumerate(analysis_folders):\n",
    "        df = pd.concat([get_alignment_stats(analysis_folder), get_coverage_stats(analysis_folder, coverage)], axis=1)\n",
    "        experiment = analysis_folder.stem\n",
    "        df = df.loc[:,selected_columns].sort_index()\n",
    "    \n",
    "        # Add experiment\n",
    "        df.loc[:,\"experiment\"] = experiment\n",
    "        df.index.names = [\"sample_id\"]\n",
    "        # Get id from seq run names\n",
    "        df = df.reset_index()\n",
    "        # Some sample id contains \"-M10\" for multiplexed 10, so replacing it by \"_\" to keep the same sample id\n",
    "        df.loc[:,\"sample_id\"] = [x.replace(\"-\", \"_\").split(\"_\")[0] for x in df.loc[:,\"sample_id\"]]\n",
    "        all_dfs.append(df)\n",
    "\n",
    "    print(f\"A total of {count + 1} experiments have been summarized.\")\n",
    "    summary_df = pd.concat(all_dfs)\n",
    "\n",
    "    # Correct sample_id names for Water control\n",
    "    summary_df.sample_id = summary_df.sample_id.replace(\"Controle-Negatif-water\", \"Cneg\")\n",
    "\n",
    "    # Add groups\n",
    "    summary_df = pd.merge(summary_df, groups_df, on='sample_id')\n",
    "    \n",
    "    # # Add normalization by million read sequenced for the DOC\n",
    "    if coverage:\n",
    "        summary_df.loc[:,\"DOC_norm\"] = summary_df.DOC / summary_df.total_reads * 1000000\n",
    "        summary_df.loc[:,\"BOC_norm\"] = summary_df.BOC / summary_df.total_reads * 1000000\n",
    "    \n",
    "    return summary_df"
   ]
  },
  {
   "cell_type": "code",
   "execution_count": 11,
   "metadata": {
    "Collapsed": "false"
   },
   "outputs": [
    {
     "name": "stdout",
     "output_type": "stream",
     "text": [
      "A total of 19 experiments have been summarized.\n"
     ]
    },
    {
     "data": {
      "text/html": [
       "<div>\n",
       "<style scoped>\n",
       "    .dataframe tbody tr th:only-of-type {\n",
       "        vertical-align: middle;\n",
       "    }\n",
       "\n",
       "    .dataframe tbody tr th {\n",
       "        vertical-align: top;\n",
       "    }\n",
       "\n",
       "    .dataframe thead th {\n",
       "        text-align: right;\n",
       "    }\n",
       "</style>\n",
       "<table border=\"1\" class=\"dataframe\">\n",
       "  <thead>\n",
       "    <tr style=\"text-align: right;\">\n",
       "      <th></th>\n",
       "      <th>sample_id</th>\n",
       "      <th>total_reads</th>\n",
       "      <th>mapped_reads</th>\n",
       "      <th>mapped_reads_perc</th>\n",
       "      <th>mapped_reads_per_million</th>\n",
       "      <th>proper_pairs</th>\n",
       "      <th>BOC</th>\n",
       "      <th>DOC</th>\n",
       "      <th>CV</th>\n",
       "      <th>experiment</th>\n",
       "      <th>ct</th>\n",
       "      <th>group</th>\n",
       "      <th>DOC_norm</th>\n",
       "      <th>BOC_norm</th>\n",
       "    </tr>\n",
       "  </thead>\n",
       "  <tbody>\n",
       "    <tr>\n",
       "      <th>0</th>\n",
       "      <td>4489</td>\n",
       "      <td>320934.0</td>\n",
       "      <td>85559.0</td>\n",
       "      <td>26.7</td>\n",
       "      <td>266594.0</td>\n",
       "      <td>84552.0</td>\n",
       "      <td>60.7</td>\n",
       "      <td>396.0</td>\n",
       "      <td>1.6</td>\n",
       "      <td>arbo_double_10plex_ms</td>\n",
       "      <td>35.1</td>\n",
       "      <td>D</td>\n",
       "      <td>1233.8</td>\n",
       "      <td>189.2</td>\n",
       "    </tr>\n",
       "    <tr>\n",
       "      <th>1</th>\n",
       "      <td>4489</td>\n",
       "      <td>895644.0</td>\n",
       "      <td>258640.0</td>\n",
       "      <td>28.9</td>\n",
       "      <td>288775.0</td>\n",
       "      <td>95496.0</td>\n",
       "      <td>94.6</td>\n",
       "      <td>1198.3</td>\n",
       "      <td>0.9</td>\n",
       "      <td>arbo_double_is</td>\n",
       "      <td>35.1</td>\n",
       "      <td>D</td>\n",
       "      <td>1337.9</td>\n",
       "      <td>105.6</td>\n",
       "    </tr>\n",
       "    <tr>\n",
       "      <th>2</th>\n",
       "      <td>4489</td>\n",
       "      <td>3726702.0</td>\n",
       "      <td>1128498.0</td>\n",
       "      <td>30.3</td>\n",
       "      <td>302814.0</td>\n",
       "      <td>1118722.0</td>\n",
       "      <td>94.6</td>\n",
       "      <td>5287.2</td>\n",
       "      <td>0.9</td>\n",
       "      <td>arbo_double_ms</td>\n",
       "      <td>35.1</td>\n",
       "      <td>D</td>\n",
       "      <td>1418.7</td>\n",
       "      <td>25.4</td>\n",
       "    </tr>\n",
       "    <tr>\n",
       "      <th>3</th>\n",
       "      <td>4489</td>\n",
       "      <td>679762.0</td>\n",
       "      <td>1728.0</td>\n",
       "      <td>0.3</td>\n",
       "      <td>2542.1</td>\n",
       "      <td>816.0</td>\n",
       "      <td>87.9</td>\n",
       "      <td>7.6</td>\n",
       "      <td>0.9</td>\n",
       "      <td>arbo_single_is</td>\n",
       "      <td>35.1</td>\n",
       "      <td>D</td>\n",
       "      <td>11.2</td>\n",
       "      <td>129.3</td>\n",
       "    </tr>\n",
       "    <tr>\n",
       "      <th>4</th>\n",
       "      <td>4489</td>\n",
       "      <td>2987580.0</td>\n",
       "      <td>7350.0</td>\n",
       "      <td>0.2</td>\n",
       "      <td>2460.2</td>\n",
       "      <td>7282.0</td>\n",
       "      <td>93.7</td>\n",
       "      <td>32.5</td>\n",
       "      <td>0.8</td>\n",
       "      <td>arbo_single_ms</td>\n",
       "      <td>35.1</td>\n",
       "      <td>D</td>\n",
       "      <td>10.9</td>\n",
       "      <td>31.3</td>\n",
       "    </tr>\n",
       "    <tr>\n",
       "      <th>...</th>\n",
       "      <td>...</td>\n",
       "      <td>...</td>\n",
       "      <td>...</td>\n",
       "      <td>...</td>\n",
       "      <td>...</td>\n",
       "      <td>...</td>\n",
       "      <td>...</td>\n",
       "      <td>...</td>\n",
       "      <td>...</td>\n",
       "      <td>...</td>\n",
       "      <td>...</td>\n",
       "      <td>...</td>\n",
       "      <td>...</td>\n",
       "      <td>...</td>\n",
       "    </tr>\n",
       "    <tr>\n",
       "      <th>345</th>\n",
       "      <td>4510</td>\n",
       "      <td>1708210.0</td>\n",
       "      <td>633819.0</td>\n",
       "      <td>37.1</td>\n",
       "      <td>371043.0</td>\n",
       "      <td>587744.0</td>\n",
       "      <td>95.7</td>\n",
       "      <td>3042.7</td>\n",
       "      <td>0.7</td>\n",
       "      <td>twist_cov_LB_ms</td>\n",
       "      <td>34.6</td>\n",
       "      <td>D</td>\n",
       "      <td>1781.2</td>\n",
       "      <td>56.0</td>\n",
       "    </tr>\n",
       "    <tr>\n",
       "      <th>346</th>\n",
       "      <td>4510</td>\n",
       "      <td>44895698.0</td>\n",
       "      <td>35145658.0</td>\n",
       "      <td>78.3</td>\n",
       "      <td>782829.0</td>\n",
       "      <td>23938974.0</td>\n",
       "      <td>95.4</td>\n",
       "      <td>142366.3</td>\n",
       "      <td>0.7</td>\n",
       "      <td>twist_cov_hg38_bwt2_depletion_ns</td>\n",
       "      <td>34.6</td>\n",
       "      <td>D</td>\n",
       "      <td>3171.0</td>\n",
       "      <td>2.1</td>\n",
       "    </tr>\n",
       "    <tr>\n",
       "      <th>347</th>\n",
       "      <td>4510</td>\n",
       "      <td>865012.0</td>\n",
       "      <td>371844.0</td>\n",
       "      <td>43.0</td>\n",
       "      <td>429871.0</td>\n",
       "      <td>275270.0</td>\n",
       "      <td>94.7</td>\n",
       "      <td>1459.7</td>\n",
       "      <td>0.7</td>\n",
       "      <td>twist_cov_is</td>\n",
       "      <td>34.6</td>\n",
       "      <td>D</td>\n",
       "      <td>1687.4</td>\n",
       "      <td>109.5</td>\n",
       "    </tr>\n",
       "    <tr>\n",
       "      <th>348</th>\n",
       "      <td>4510</td>\n",
       "      <td>2387346.0</td>\n",
       "      <td>1118723.0</td>\n",
       "      <td>46.9</td>\n",
       "      <td>468605.0</td>\n",
       "      <td>1112426.0</td>\n",
       "      <td>94.9</td>\n",
       "      <td>4491.9</td>\n",
       "      <td>0.7</td>\n",
       "      <td>twist_cov_ms</td>\n",
       "      <td>34.6</td>\n",
       "      <td>D</td>\n",
       "      <td>1881.6</td>\n",
       "      <td>39.7</td>\n",
       "    </tr>\n",
       "    <tr>\n",
       "      <th>349</th>\n",
       "      <td>4510</td>\n",
       "      <td>71040534.0</td>\n",
       "      <td>35145658.0</td>\n",
       "      <td>49.5</td>\n",
       "      <td>494727.0</td>\n",
       "      <td>23938974.0</td>\n",
       "      <td>95.4</td>\n",
       "      <td>142366.3</td>\n",
       "      <td>0.7</td>\n",
       "      <td>twist_cov_ns</td>\n",
       "      <td>34.6</td>\n",
       "      <td>D</td>\n",
       "      <td>2004.0</td>\n",
       "      <td>1.3</td>\n",
       "    </tr>\n",
       "  </tbody>\n",
       "</table>\n",
       "<p>350 rows × 14 columns</p>\n",
       "</div>"
      ],
      "text/plain": [
       "    sample_id  total_reads  mapped_reads  mapped_reads_perc  \\\n",
       "0        4489     320934.0       85559.0               26.7   \n",
       "1        4489     895644.0      258640.0               28.9   \n",
       "2        4489    3726702.0     1128498.0               30.3   \n",
       "3        4489     679762.0        1728.0                0.3   \n",
       "4        4489    2987580.0        7350.0                0.2   \n",
       "..        ...          ...           ...                ...   \n",
       "345      4510    1708210.0      633819.0               37.1   \n",
       "346      4510   44895698.0    35145658.0               78.3   \n",
       "347      4510     865012.0      371844.0               43.0   \n",
       "348      4510    2387346.0     1118723.0               46.9   \n",
       "349      4510   71040534.0    35145658.0               49.5   \n",
       "\n",
       "     mapped_reads_per_million  proper_pairs  BOC      DOC  CV  \\\n",
       "0                    266594.0       84552.0 60.7    396.0 1.6   \n",
       "1                    288775.0       95496.0 94.6   1198.3 0.9   \n",
       "2                    302814.0     1118722.0 94.6   5287.2 0.9   \n",
       "3                      2542.1         816.0 87.9      7.6 0.9   \n",
       "4                      2460.2        7282.0 93.7     32.5 0.8   \n",
       "..                        ...           ...  ...      ...  ..   \n",
       "345                  371043.0      587744.0 95.7   3042.7 0.7   \n",
       "346                  782829.0    23938974.0 95.4 142366.3 0.7   \n",
       "347                  429871.0      275270.0 94.7   1459.7 0.7   \n",
       "348                  468605.0     1112426.0 94.9   4491.9 0.7   \n",
       "349                  494727.0    23938974.0 95.4 142366.3 0.7   \n",
       "\n",
       "                           experiment   ct group  DOC_norm  BOC_norm  \n",
       "0               arbo_double_10plex_ms 35.1     D    1233.8     189.2  \n",
       "1                      arbo_double_is 35.1     D    1337.9     105.6  \n",
       "2                      arbo_double_ms 35.1     D    1418.7      25.4  \n",
       "3                      arbo_single_is 35.1     D      11.2     129.3  \n",
       "4                      arbo_single_ms 35.1     D      10.9      31.3  \n",
       "..                                ...  ...   ...       ...       ...  \n",
       "345                   twist_cov_LB_ms 34.6     D    1781.2      56.0  \n",
       "346  twist_cov_hg38_bwt2_depletion_ns 34.6     D    3171.0       2.1  \n",
       "347                      twist_cov_is 34.6     D    1687.4     109.5  \n",
       "348                      twist_cov_ms 34.6     D    1881.6      39.7  \n",
       "349                      twist_cov_ns 34.6     D    2004.0       1.3  \n",
       "\n",
       "[350 rows x 14 columns]"
      ]
     },
     "execution_count": 11,
     "metadata": {},
     "output_type": "execute_result"
    }
   ],
   "source": [
    "summary_df = summarize_mapping(RESULTS_DIR)\n",
    "summary_df.to_excel(writer, sheet_name=\"mapping_complete\", index=False, na_rep=\"NA\")\n",
    "\n",
    "summary_df_pub = summary_df.loc[:,[\"sample_id\", \"ct\", \"group\", \"experiment\", \"mapped_reads_perc\", \"BOC\", \"DOC\"]]\n",
    "summary_df.to_excel(writer, sheet_name=\"mapping_pub\", index=False, na_rep=\"NA\")\n",
    "writer.save()\n",
    "summary_df"
   ]
  },
  {
   "cell_type": "markdown",
   "metadata": {},
   "source": [
    "### On target"
   ]
  },
  {
   "cell_type": "code",
   "execution_count": 13,
   "metadata": {},
   "outputs": [],
   "source": [
    "def get_ref_bam_stats(bamfile, classif_csv):\n",
    "    \n",
    "    classif_df = pd.read_csv(classif_csv, index_col=\"id\")\\\n",
    "    .drop_duplicates()\\\n",
    "    .reset_index()\n",
    "    \n",
    "    with pysam.AlignmentFile(bamfile, \"rb\") as bam:\n",
    "        unmapped = bam.unmapped\n",
    "        mapped_to_human = sum([bam.count(chrom, read_callback=\"all\") for chrom in classif_df.query(\"classification == 'human'\").id])\n",
    "        mapped_to_sars_wuhan = sum([bam.count(chrom, read_callback=\"all\") for chrom in classif_df.query(\"classification == 'wuhan_cov'\").id])\n",
    "        mapped = bam.mapped\n",
    "        total = unmapped + mapped\n",
    "    \n",
    "    return {\n",
    "        \"human\": mapped_to_human,\n",
    "        \"SARS-CoV-2\": mapped_to_sars_wuhan,\n",
    "        \"other\": unmapped,\n",
    "        \"total\": total\n",
    "    }\n",
    "\n",
    "def get_on_target_mapping_stats(analysis_dirs, classif_csv, dir_pattern=\"*\"):\n",
    "    all_dfs = []\n",
    "\n",
    "    for count, analysis_dir in enumerate(analysis_dirs):\n",
    "        \n",
    "        bams_pattern = \"**/bowtie2_mapping_ref/*sorted.bam\"\n",
    "        experiment = analysis_dir.stem\n",
    "        \n",
    "        for bam in analysis_dir.glob(bams_pattern):\n",
    "            print(bam)\n",
    "            \n",
    "            sample_id = bam.stem.split(\"_\")[0]\n",
    "            map_stats = get_ref_bam_stats(bam, classif_csv)\n",
    "            map_stats[\"experiment\"] = experiment\n",
    "            map_stats[\"sample_id\"] = sample_id\n",
    "            all_dfs.append(map_stats)\n",
    "            \n",
    "    return pd.DataFrame(all_dfs)\n",
    "\n",
    "def aggregate_target_dfs(dfs_list):\n",
    "    df = pd.DataFrame(dfs_list)\n",
    "    df = df.set_index([\"sample_id\", \"experiment\"])\n",
    "    df = df.divide(df.total, axis=0).reset_index()\n",
    "    df = df.merge(groups_df, on=\"sample_id\")\n",
    "    df = df.sort_values(\"ct\")\n",
    "    df = df.astype({\"ct\": str})\n",
    "    \n",
    "    return df\n",
    "\n",
    "def plot_barplot(df, title=\"\", ax=None, legend=False, legendy=1.11):\n",
    "    #fig, ax = plt.subplots()\n",
    "\n",
    "    cmap = sns.color_palette(\"colorblind\", as_cmap=True)\n",
    "    ax.bar(df.ct, df.loc[:,\"SARS-CoV-2\"], label='SARS-CoV-2', color=cmap[2])\n",
    "    ax.bar(df.ct, df.human, label='human', bottom=df.loc[:, \"SARS-CoV-2\"], color=cmap[0])\n",
    "    ax.bar(df.ct, df.other, bottom=df.human + df.loc[:,\"SARS-CoV-2\"],\n",
    "       label='unmapped', color=cmap[1])\n",
    "    if legend:\n",
    "        ax.legend(bbox_to_anchor=(legendy, 0.5), loc=10, borderaxespad=0.)\n",
    "    ax.set_xticklabels(df.ct, rotation=45)\n",
    "    ax.set_title(title)"
   ]
  },
  {
   "cell_type": "markdown",
   "metadata": {},
   "source": [
    "#### Sequencing technologies\n",
    "- Twist IS, MS, NS"
   ]
  },
  {
   "cell_type": "code",
   "execution_count": 14,
   "metadata": {},
   "outputs": [
    {
     "data": {
      "text/plain": [
       "[PosixPath('../mapper_human_sarscov2/twist_cov_is'),\n",
       " PosixPath('../mapper_human_sarscov2/twist_cov_ms'),\n",
       " PosixPath('../mapper_human_sarscov2/twist_cov_ns')]"
      ]
     },
     "execution_count": 14,
     "metadata": {},
     "output_type": "execute_result"
    }
   ],
   "source": [
    "ontarget_tech_dirs = sorted([x for x in Path(\"../mapper_human_sarscov2\")\\\n",
    "                             .glob(\"twist_cov_?s\") if x.is_dir()])\n",
    "ontarget_tech_dirs"
   ]
  },
  {
   "cell_type": "code",
   "execution_count": null,
   "metadata": {
    "tags": []
   },
   "outputs": [],
   "source": [
    "dfs_ontarget_tech = get_on_target_mapping_stats(ontarget_tech_dirs, \n",
    "                                                \"../resources/pan_with_humans.csv\")"
   ]
  },
  {
   "cell_type": "code",
   "execution_count": 14,
   "metadata": {},
   "outputs": [
    {
     "name": "stderr",
     "output_type": "stream",
     "text": [
      "<ipython-input-11-8bf420459f4a>:60: UserWarning: FixedFormatter should only be used together with FixedLocator\n",
      "  ax.set_xticklabels(df.ct, rotation=45)\n"
     ]
    },
    {
     "data": {
      "image/png": "[encoded data removed]",
      "text/plain": [
       "<Figure size 864x864 with 3 Axes>"
      ]
     },
     "metadata": {
      "needs_background": "light"
     },
     "output_type": "display_data"
    }
   ],
   "source": [
    "matplotlib.pyplot.rcParams['figure.figsize'] = 12, 12\n",
    "figure, ax = plt.subplots(3, 1) \n",
    "\n",
    "plot_barplot(aggregate_target_dfs(dfs_ontarget_tech).query(\"experiment == 'twist_cov_is' \"),\n",
    "            title=\"Twist_CoV_ISeq\", ax=ax[0], legend=True)\n",
    "plot_barplot(aggregate_target_dfs(dfs_ontarget_tech).query(\"experiment == 'twist_cov_ms' \"),\n",
    "             title=\"Twist_CoV_MiSeq\", ax=ax[1])\n",
    "plot_barplot(aggregate_target_dfs(dfs_ontarget_tech).query(\"experiment == 'twist_cov_ns' \"),\n",
    "            title=\"Twist_CoV_NextSeq\", ax=ax[2])\n",
    "plt.tight_layout()"
   ]
  },
  {
   "cell_type": "markdown",
   "metadata": {},
   "source": [
    "#### MS Arbo single/double, Twist cov MS"
   ]
  },
  {
   "cell_type": "code",
   "execution_count": 15,
   "metadata": {},
   "outputs": [],
   "source": [
    "ontarget_sd_dirs = [Path(\"../mapper_human_sarscov2/\") / x \n",
    "                   for x in [\"arbo_single_ms\", \"arbo_double_ms\", \"twist_cov_ms\"]]"
   ]
  },
  {
   "cell_type": "code",
   "execution_count": null,
   "metadata": {
    "tags": []
   },
   "outputs": [],
   "source": [
    "dfs_ontarget_sd = get_on_target_mapping_stats(ontarget_sd_dirs,\n",
    "                                             \"../resources/pan_with_humans.csv\")"
   ]
  },
  {
   "cell_type": "code",
   "execution_count": 33,
   "metadata": {},
   "outputs": [],
   "source": [
    "# Selecting for the 19 samples in commons for both exps\n",
    "sample_sel = dfs_ontarget_sd.query(\"experiment == 'arbo_double_ms'\").sample_id\n",
    "dfs_ontarget_sd = dfs_ontarget_sd.query(\"sample_id in @sample_sel\")"
   ]
  },
  {
   "cell_type": "code",
   "execution_count": 40,
   "metadata": {},
   "outputs": [
    {
     "name": "stderr",
     "output_type": "stream",
     "text": [
      "/pasteur/sonic/homes/ekornobi/bioit/miniconda3/envs/dev/lib/python3.7/site-packages/ipykernel_launcher.py:60: UserWarning: FixedFormatter should only be used together with FixedLocator\n"
     ]
    },
    {
     "data": {
      "image/png": "[encoded data removed]",
      "text/plain": [
       "<Figure size 864x864 with 3 Axes>"
      ]
     },
     "metadata": {
      "needs_background": "light"
     },
     "output_type": "display_data"
    }
   ],
   "source": [
    "matplotlib.pyplot.rcParams['figure.figsize'] = 12, 12\n",
    "figure, ax = plt.subplots(3, 1) \n",
    "\n",
    "plot_barplot(aggregate_target_dfs(dfs_ontarget_sd).query(\"experiment == 'arbo_single_ms' \"),\n",
    "            title=\"Arbo_single_MiSeq\", ax=ax[0], legend=True)\n",
    "plot_barplot(aggregate_target_dfs(dfs_ontarget_sd).query(\"experiment == 'arbo_double_ms' \"),\n",
    "            title=\"Arbo_double_MiSeq\", ax=ax[1])\n",
    "plot_barplot(aggregate_target_dfs(dfs_ontarget_sd).query(\"experiment == 'twist_cov_ms' \"),\n",
    "            title=\"Twist_CoV_MiSeq\", ax=ax[2])\n",
    "plt.tight_layout()\n",
    "plt.savefig(\"../ManuscriptMaterials/Figures/miseq_arbo_single_double_twist.pdf\")"
   ]
  },
  {
   "cell_type": "markdown",
   "metadata": {},
   "source": [
    "#### MS Arbo and Twist CoV"
   ]
  },
  {
   "cell_type": "code",
   "execution_count": 15,
   "metadata": {},
   "outputs": [
    {
     "data": {
      "text/plain": [
       "[PosixPath('../mapper_human_sarscov2/arbo_double_ms'),\n",
       " PosixPath('../mapper_human_sarscov2/arbo_double_10plex_ms'),\n",
       " PosixPath('../mapper_human_sarscov2/twist_cov_ms'),\n",
       " PosixPath('../mapper_human_sarscov2/twist_cov_10plex_ms')]"
      ]
     },
     "execution_count": 15,
     "metadata": {},
     "output_type": "execute_result"
    }
   ],
   "source": [
    "ontarget_mx_dirs = [Path(\"../mapper_human_sarscov2/\") / x \n",
    "                    for x in [\"arbo_double_ms\", \"arbo_double_10plex_ms\",\n",
    "                             \"twist_cov_ms\", \"twist_cov_10plex_ms\"]]\n",
    "ontarget_mx_dirs"
   ]
  },
  {
   "cell_type": "code",
   "execution_count": null,
   "metadata": {
    "tags": []
   },
   "outputs": [],
   "source": [
    "dfs_ontarget_mx = get_on_target_mapping_stats(ontarget_mx_dirs,\n",
    "                                              \"../resources/pan_with_humans.csv\")"
   ]
  },
  {
   "cell_type": "code",
   "execution_count": 17,
   "metadata": {
    "tags": []
   },
   "outputs": [],
   "source": [
    "# Selecting for the 19 samples in commons for both exps\n",
    "sample_sel = dfs_ontarget_mx.query(\"experiment == 'arbo_double_ms'\").sample_id\n",
    "df_tmp = dfs_ontarget_mx.query(\"sample_id in @sample_sel\")"
   ]
  },
  {
   "cell_type": "code",
   "execution_count": 18,
   "metadata": {},
   "outputs": [
    {
     "name": "stderr",
     "output_type": "stream",
     "text": [
      "<ipython-input-11-8bf420459f4a>:60: UserWarning: FixedFormatter should only be used together with FixedLocator\n",
      "  ax.set_xticklabels(df.ct, rotation=45)\n"
     ]
    },
    {
     "data": {
      "image/png": "[encoded data removed]",
      "text/plain": [
       "<Figure size 864x576 with 2 Axes>"
      ]
     },
     "metadata": {
      "needs_background": "light"
     },
     "output_type": "display_data"
    }
   ],
   "source": [
    "matplotlib.pyplot.rcParams['figure.figsize'] = 12, 8\n",
    "figure, ax = plt.subplots(2, 1) \n",
    "\n",
    "plot_barplot(aggregate_target_dfs(df_tmp).query(\"experiment == 'arbo_double_ms' \"),\n",
    "            title=\"Arbo_double_MiSeq\", ax=ax[0], legend=True)\n",
    "plot_barplot(aggregate_target_dfs(df_tmp).query(\"experiment == 'twist_cov_ms' \"),\n",
    "            title=\"Twist_CoV_MiSeq\", ax=ax[1])\n",
    "plt.tight_layout()"
   ]
  },
  {
   "cell_type": "code",
   "execution_count": null,
   "metadata": {},
   "outputs": [],
   "source": [
    "dfs_ontarget_tech"
   ]
  },
  {
   "cell_type": "markdown",
   "metadata": {},
   "source": [
    "#### Multiplexage\n",
    "- Arbor double MS / Arbor double  10plex MS - Twist cov MS/ twist Cov 10plex MS"
   ]
  },
  {
   "cell_type": "code",
   "execution_count": null,
   "metadata": {
    "tags": []
   },
   "outputs": [],
   "source": [
    "# Homogeneize sample id (\"-M10 added for multiplexed ones\")\n",
    "dfs_ontarget_mx[\"sample_id\"] = dfs_ontarget_mx.sample_id.str.replace(\"-M10\", \"\")\n",
    "\n",
    "# Keep only samples available in all\n",
    "sample_sel = dfs_ontarget_mx.query(\"experiment == 'arbo_double_10plex_ms'\").sample_id\n",
    "dfs_ontarget_mx = dfs_ontarget_mx.query(\"sample_id in @sample_sel\")"
   ]
  },
  {
   "cell_type": "code",
   "execution_count": 19,
   "metadata": {},
   "outputs": [
    {
     "name": "stderr",
     "output_type": "stream",
     "text": [
      "<ipython-input-10-8bf420459f4a>:60: UserWarning: FixedFormatter should only be used together with FixedLocator\n",
      "  ax.set_xticklabels(df.ct, rotation=45)\n"
     ]
    },
    {
     "data": {
      "image/png": "[encoded data removed]",
      "text/plain": [
       "<Figure size 864x1152 with 4 Axes>"
      ]
     },
     "metadata": {
      "needs_background": "light"
     },
     "output_type": "display_data"
    }
   ],
   "source": [
    "matplotlib.pyplot.rcParams['figure.figsize'] = 12, 16\n",
    "figure, ax = plt.subplots(4, 1) \n",
    "\n",
    "plot_barplot(aggregate_target_dfs(dfs_ontarget_mx).query(\"experiment == 'arbo_double_ms' \"),\n",
    "            title=\"Arbo_double_MiSeq\", ax=ax[0], legend=True)\n",
    "plot_barplot(aggregate_target_dfs(dfs_ontarget_mx).query(\"experiment == 'arbo_double_10plex_ms' \"),\n",
    "            title=\"Arbo_double_10plex_MiSeq\", ax=ax[1])\n",
    "plot_barplot(aggregate_target_dfs(dfs_ontarget_mx).query(\"experiment == 'twist_cov_ms' \"),\n",
    "            title=\"Twist_CoV_MiSeq\", ax=ax[2])\n",
    "plot_barplot(aggregate_target_dfs(dfs_ontarget_mx).query(\"experiment == 'twist_cov_10plex_ms' \"),\n",
    "            title=\"Twist_CoV_10plex_MiSeq\", ax=ax[3])\n",
    "plt.tight_layout()"
   ]
  },
  {
   "cell_type": "markdown",
   "metadata": {},
   "source": [
    "#### Panviral\n",
    "- Twist Panviral NS et Illumina Resv V2 NS"
   ]
  },
  {
   "cell_type": "code",
   "execution_count": 19,
   "metadata": {},
   "outputs": [
    {
     "data": {
      "text/plain": [
       "[PosixPath('../mapper_human_sarscov2/twist_panviral_ns'),\n",
       " PosixPath('../mapper_human_sarscov2/illumina_resv_v2_ns')]"
      ]
     },
     "execution_count": 19,
     "metadata": {},
     "output_type": "execute_result"
    }
   ],
   "source": [
    "ontarget_ti_dirs = [Path(\"../mapper_human_sarscov2/\") / x \n",
    "                    for x in [\"twist_panviral_ns\", \"illumina_resv_v2_ns\"]]\n",
    "ontarget_ti_dirs"
   ]
  },
  {
   "cell_type": "code",
   "execution_count": null,
   "metadata": {
    "tags": []
   },
   "outputs": [],
   "source": [
    "dfs_ontarget_ti = get_on_target_mapping_stats(ontarget_ti_dirs,\n",
    "                                              \"../resources/pan_with_humans.csv\")"
   ]
  },
  {
   "cell_type": "code",
   "execution_count": 21,
   "metadata": {},
   "outputs": [
    {
     "name": "stderr",
     "output_type": "stream",
     "text": [
      "<ipython-input-11-8bf420459f4a>:60: UserWarning: FixedFormatter should only be used together with FixedLocator\n",
      "  ax.set_xticklabels(df.ct, rotation=45)\n"
     ]
    },
    {
     "data": {
      "image/png": "[encoded data removed]",
      "text/plain": [
       "<Figure size 864x576 with 2 Axes>"
      ]
     },
     "metadata": {
      "needs_background": "light"
     },
     "output_type": "display_data"
    }
   ],
   "source": [
    "matplotlib.pyplot.rcParams['figure.figsize'] = 12, 8\n",
    "figure, ax = plt.subplots(2, 1)\n",
    "\n",
    "plot_barplot(aggregate_target_dfs(dfs_ontarget_ti).query(\"experiment == 'twist_panviral_ns' \"),\n",
    "            title=\"Twist_panviral_NextSeq\", ax=ax[0], legend=True)\n",
    "plot_barplot(aggregate_target_dfs(dfs_ontarget_ti).query(\"experiment == 'illumina_resv_v2_ns' \"),\n",
    "            title=\"Illumina_panviral_v2_NextSeq\", ax=ax[1])\n",
    "plt.tight_layout()"
   ]
  }
 ],
 "metadata": {
  "kernelspec": {
   "display_name": "Python [conda env:dev_ek_pip]",
   "language": "python",
   "name": "conda-env-dev_ek_pip-py"
  },
  "language_info": {
   "codemirror_mode": {
    "name": "ipython",
    "version": 3
   },
   "file_extension": ".py",
   "mimetype": "text/x-python",
   "name": "python",
   "nbconvert_exporter": "python",
   "pygments_lexer": "ipython3",
   "version": "3.7.12"
  },
  "toc-autonumbering": true,
  "toc-showcode": false,
  "toc-showmarkdowntxt": false
 },
 "nbformat": 4,
 "nbformat_minor": 4
}
