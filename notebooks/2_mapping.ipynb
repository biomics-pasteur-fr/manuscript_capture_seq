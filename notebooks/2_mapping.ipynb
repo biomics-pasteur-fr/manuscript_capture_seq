{
 "cells": [
  {
   "cell_type": "code",
   "execution_count": null,
   "metadata": {},
   "outputs": [],
   "source": [
    "from pathlib import Path"
   ]
  },
  {
   "cell_type": "markdown",
   "metadata": {},
   "source": [
    "# Mapping"
   ]
  },
  {
   "cell_type": "code",
   "execution_count": null,
   "metadata": {},
   "outputs": [],
   "source": [
    "DATA_DIR = Path(\"../data\")\n",
    "\n",
    "RUN_DIRS = [run_dir \n",
    " for run_dir in DATA_DIR.glob(\"*\") \n",
    " if run_dir.is_dir() \n",
    " and len(list(run_dir.glob(\"*\"))) != 0 ]\n",
    "\n",
    "MAPPER_WUHAN_DIR = Path(\"../mapper_wuhan\")\n",
    "DEPLETION_DIR = Path(\"../human_depleted_fastqs/depletion_analysis\")\n",
    "GENOME_SARS_PATH = \"../resources/genomes/MN908947_3.fa\"\n",
    "\n",
    "MAPPER_HUMAN_DIR = Path(\"../mapper_human\")\n",
    "GENOME_HUMAN_PATH = \"../resources/genomes/hg38.fa\"\n",
    "\n",
    "MAPPER_HUMAN_SARS_DIR = Path(\"../mapper_human_sarscov2\")\n",
    "GENOME_HUMAN_SARS_PATH = \"../resources/genomes/human_sars.fa\""
   ]
  },
  {
   "cell_type": "markdown",
   "metadata": {},
   "source": [
    "## Mapping vs SARS-CoV Wuhan-Hu-1"
   ]
  },
  {
   "cell_type": "code",
   "execution_count": null,
   "metadata": {},
   "outputs": [],
   "source": [
    "print(\"MAPPING against Wuhan-Hu-1 the following runs:\")\n",
    "for run_dir in RUN_DIRS:\n",
    "    \n",
    "    # Prepare mapper outdir\n",
    "    out_dir = MAPPER_WUHAN_DIR / run_dir.stem\n",
    "    print(f\"- {run_dir.stem} in {out_dir}\")\n",
    "    \n",
    "    # Check if mapping already done:\n",
    "    if out_dir.exists():\n",
    "        print(f\"The result folder {out_dir} exists already. Skipping...\")\n",
    "        continue\n",
    "        \n",
    "    # Prepare sequana command\n",
    "    sequana_cmd = f\"sequana_mapper --reference {GENOME_SARS_PATH} --input-directory {run_dir} --do-coverage --working-directory {out_dir} --mapper bowtie2\"\n",
    "    print(f\"Sequana command: {sequana_cmd}\")\n",
    "    \n",
    "    # Create sequana templates\n",
    "    ! module load sequana/prod && {sequana_cmd}\n",
    "    ! module load sequana/prod && cd {out_dir} && sbatch -q biomics -p biomics -A biomics mapper.sh"
   ]
  },
  {
   "cell_type": "markdown",
   "metadata": {},
   "source": [
    "## Mapping vs human"
   ]
  },
  {
   "cell_type": "code",
   "execution_count": null,
   "metadata": {},
   "outputs": [],
   "source": [
    "for run_dir in RUN_DIRS:\n",
    "    \n",
    "    # Prepare mapper outdir\n",
    "    out_dir = MAPPER_HUMAN_DIR / run_dir.stem\n",
    "    print(f\"- {run_dir.stem} in {out_dir}\")\n",
    "    \n",
    "    # Check if mapping already done:\n",
    "    if out_dir.exists():\n",
    "        print(f\"The result folder {out_dir} exists already. Skipping...\")\n",
    "        continue\n",
    "        \n",
    "    # Prepare sequana command\n",
    "    sequana_cmd = f\"sequana_mapper --slurm-memory 30G --reference {GENOME_HUMAN_PATH} --input-directory {run_dir} --working-directory {out_dir} --mapper bowtie2\"\n",
    "    print(f\"Sequana command: {sequana_cmd}\")\n",
    "    \n",
    "    # Create sequana templates\n",
    "    ! module load sequana/prod && {sequana_cmd}\n",
    "    ! module load sequana/prod && cd {out_dir} && sbatch -q biomics -p biomics -A biomics mapper.sh"
   ]
  },
  {
   "cell_type": "markdown",
   "metadata": {},
   "source": [
    "## In silico depletion"
   ]
  },
  {
   "cell_type": "code",
   "execution_count": null,
   "metadata": {
    "tags": []
   },
   "outputs": [],
   "source": [
    "depletion_cmd = f\"\"\"\n",
    "bwa mem {GENOME_HUMAN_PATH} ./art/data_1.fq ../art/data_2.fq -t 8 > temp.sam \\\n",
    "samtools view -bS temp.sam > temp.bam \\\n",
    "samtools view -b -f 12 -F 256 temp.bam > temp_bothReadsUnmapped.bam \\\n",
    "bioconvert bam2fastq temp_bothReadsUnmapped.bam test.fastq --force \\\n",
    "\"\"\"\n",
    "\n",
    "for run_dir in RUN_DIRS:\n",
    "    \n",
    "    # Prepare mapper outdir\n",
    "    DEPLETION_DIR.mkdir(exist_ok=True)\n",
    "    out_dir = DEPLETION_DIR / run_dir.stem\n",
    "    print(f\"- {run_dir.stem} in {out_dir}\")\n",
    "    FASTQ_DIR = out_dir / \"depleted_fastqs\"\n",
    "    FASTQ_DIR.mkdir(exist_ok=True)\n",
    "    \n",
    "    sequana_cmd = f\"sequana_mapper --slurm-memory 30G --reference {GENOME_HUMAN_PATH} --input-directory {run_dir} --working-directory {out_dir} --mapper bwa\"\n",
    "    ! module load sequana/prod && {sequana_cmd}\n",
    "    ! module load sequana/prod && cd {out_dir} && sbatch -q biomicspole -p biomicspole mapper.sh\n",
    "    \n",
    "    for bam in out_dir.glob(\"*/bwa_mem_mapping/*.bam\"):\n",
    "        print(bam)\n",
    "        fastq = FASTQ_DIR / bam.with_suffix('.depleted.fastq').name\n",
    "        samtools_cmd = f\"samtools view -b -f 12 -F 256 {bam} > {bam.with_suffix('.depleted.bam')}\"\n",
    "        ! {samtools_cmd}\n",
    "        bioconvert_cmd = f\"module load bioconvert && bioconvert bam2fastq {bam.with_suffix('.depleted.bam')} {fastq} --force\"\n",
    "        ! {bioconvert_cmd}"
   ]
  },
  {
   "cell_type": "markdown",
   "metadata": {},
   "source": [
    "## Mapping Human and Sars-Cov"
   ]
  },
  {
   "cell_type": "code",
   "execution_count": null,
   "metadata": {},
   "outputs": [],
   "source": [
    "! cat {GENOME_SARS_PATH} {GENOME_HUMAN_PATH} > {GENOME_HUMAN_SARS_PATH}"
   ]
  },
  {
   "cell_type": "code",
   "execution_count": null,
   "metadata": {},
   "outputs": [],
   "source": [
    "for run_dir in RUN_DIRS:\n",
    "    \n",
    "    # Prepare mapper outdir\n",
    "    run_dir = Path(run_dir)\n",
    "    out_dir = MAPPER_HUMAN_SARS_DIR / run_dir.stem\n",
    "    print(f\"- {run_dir.stem} in {out_dir}\")\n",
    "    \n",
    "    # Check if mapping already done:\n",
    "    if out_dir.exists():\n",
    "        print(f\"The result folder {out_dir} exists already. Skipping...\")\n",
    "        continue\n",
    "        \n",
    "    # Prepare sequana command\n",
    "    sequana_cmd = f\"sequana_mapper --slurm-memory 30G --reference {GENOME_HUMAN_SARS_PATH} --input-directory {run_dir} --working-directory {out_dir} --mapper bowtie2\"\n",
    "    print(f\"Sequana command: {sequana_cmd}\")\n",
    "    \n",
    "    # Create sequana templates\n",
    "    ! module load sequana/prod && {sequana_cmd}\n",
    "    ! module load sequana/prod && cd {out_dir} && sbatch -q hubbioit -p hubbioit mapper.sh"
   ]
  }
 ],
 "metadata": {
  "kernelspec": {
   "display_name": "Python [conda env:dev]",
   "language": "python",
   "name": "conda-env-dev-py"
  },
  "language_info": {
   "codemirror_mode": {
    "name": "ipython",
    "version": 3
   },
   "file_extension": ".py",
   "mimetype": "text/x-python",
   "name": "python",
   "nbconvert_exporter": "python",
   "pygments_lexer": "ipython3",
   "version": "3.9.5"
  },
  "toc-autonumbering": false,
  "toc-showcode": false,
  "toc-showmarkdowntxt": false
 },
 "nbformat": 4,
 "nbformat_minor": 4
}
